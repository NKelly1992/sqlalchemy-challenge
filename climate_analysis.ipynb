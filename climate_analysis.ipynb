{
 "cells": [
  {
   "cell_type": "code",
   "execution_count": 1,
   "metadata": {},
   "outputs": [],
   "source": [
    "%matplotlib inline\n",
    "from matplotlib import style\n",
    "style.use('fivethirtyeight')\n",
    "import matplotlib.pyplot as plt"
   ]
  },
  {
   "cell_type": "code",
   "execution_count": 2,
   "metadata": {},
   "outputs": [],
   "source": [
    "import numpy as np\n",
    "import pandas as pd\n",
    "import datetime as dt"
   ]
  },
  {
   "cell_type": "markdown",
   "metadata": {},
   "source": [
    "# Reflect Tables into SQLAlchemy ORM"
   ]
  },
  {
   "cell_type": "code",
   "execution_count": 3,
   "metadata": {},
   "outputs": [],
   "source": [
    "# Python SQL toolkit and Object Relational Mapper\n",
    "import sqlalchemy\n",
    "from sqlalchemy.ext.automap import automap_base\n",
    "from sqlalchemy.orm import Session\n",
    "from sqlalchemy import create_engine, func, inspect"
   ]
  },
  {
   "cell_type": "code",
   "execution_count": 4,
   "metadata": {},
   "outputs": [],
   "source": [
    "# create engine to hawaii.sqlite\n",
    "engine = create_engine(\"sqlite:///Resources/hawaii.sqlite\")"
   ]
  },
  {
   "cell_type": "code",
   "execution_count": 5,
   "metadata": {},
   "outputs": [
    {
     "data": {
      "text/plain": [
       "'C:\\\\Users\\\\pippi\\\\OneDrive\\\\Documents\\\\nu-chi-data-pt-06-2021-u-c-master\\\\10-Advanced-Data-Storage-and-Retrieval\\\\Homework\\\\Instructions'"
      ]
     },
     "execution_count": 5,
     "metadata": {},
     "output_type": "execute_result"
    }
   ],
   "source": [
    "pwd"
   ]
  },
  {
   "cell_type": "code",
   "execution_count": 6,
   "metadata": {},
   "outputs": [],
   "source": [
    "# reflect an existing database into a new model\n",
    "Base = automap_base()\n",
    "# reflect the tables\n",
    "Base.prepare(engine, reflect=True)"
   ]
  },
  {
   "cell_type": "code",
   "execution_count": 7,
   "metadata": {},
   "outputs": [
    {
     "data": {
      "text/plain": [
       "['measurement', 'station']"
      ]
     },
     "execution_count": 7,
     "metadata": {},
     "output_type": "execute_result"
    }
   ],
   "source": [
    "# View all of the classes that automap found\n",
    "Base.classes.keys()"
   ]
  },
  {
   "cell_type": "code",
   "execution_count": 8,
   "metadata": {},
   "outputs": [],
   "source": [
    "# Save references to each table\n",
    "Measurement = Base.classes.measurement\n",
    "Station = Base.classes.station"
   ]
  },
  {
   "cell_type": "code",
   "execution_count": 9,
   "metadata": {},
   "outputs": [],
   "source": [
    "# Create our session (link) from Python to the DB\n",
    "session = Session(engine)"
   ]
  },
  {
   "cell_type": "markdown",
   "metadata": {},
   "source": [
    "# Exploratory Precipitation Analysis"
   ]
  },
  {
   "cell_type": "code",
   "execution_count": 10,
   "metadata": {},
   "outputs": [
    {
     "data": {
      "text/plain": [
       "('2017-08-23',)"
      ]
     },
     "execution_count": 10,
     "metadata": {},
     "output_type": "execute_result"
    }
   ],
   "source": [
    "# Find the most recent date in the data set.\n",
    "session.query(Measurement.date).order_by(Measurement.date.desc()).first()"
   ]
  },
  {
   "cell_type": "code",
   "execution_count": 11,
   "metadata": {},
   "outputs": [],
   "source": [
    "import datetime as dt"
   ]
  },
  {
   "cell_type": "code",
   "execution_count": 12,
   "metadata": {},
   "outputs": [],
   "source": [
    "# Design a query to retrieve the last 12 months of precipitation data and plot the results. \n",
    "# Starting from the most recent data point in the database. \n",
    "date = dt.datetime(2017, 8, 23)\n",
    "sel = [Measurement.date, Measurement.prcp]"
   ]
  },
  {
   "cell_type": "code",
   "execution_count": 13,
   "metadata": {},
   "outputs": [
    {
     "name": "stdout",
     "output_type": "stream",
     "text": [
      "lastdate = 2017-08-23\n",
      "year_ago = 2016-08-23 00:00:00\n"
     ]
    }
   ],
   "source": [
    "# Calculate the date one year from the last date in data set.\n",
    "year_ago = date - dt.timedelta(days=365)\n",
    "lastdate = session.query(Measurement.date).order_by(Measurement.date.desc()).first().date\n",
    "print(f\"lastdate = {lastdate}\")\n",
    "print(f\"year_ago = {year_ago}\")"
   ]
  },
  {
   "cell_type": "code",
   "execution_count": 14,
   "metadata": {},
   "outputs": [],
   "source": [
    "# Perform a query to retrieve the data and precipitation scores\n",
    "results = session.query(Measurement.date, Measurement.prcp).filter(Measurement.date >= year_ago).all()"
   ]
  },
  {
   "cell_type": "code",
   "execution_count": 15,
   "metadata": {},
   "outputs": [
    {
     "data": {
      "text/html": [
       "<div>\n",
       "<style scoped>\n",
       "    .dataframe tbody tr th:only-of-type {\n",
       "        vertical-align: middle;\n",
       "    }\n",
       "\n",
       "    .dataframe tbody tr th {\n",
       "        vertical-align: top;\n",
       "    }\n",
       "\n",
       "    .dataframe thead th {\n",
       "        text-align: right;\n",
       "    }\n",
       "</style>\n",
       "<table border=\"1\" class=\"dataframe\">\n",
       "  <thead>\n",
       "    <tr style=\"text-align: right;\">\n",
       "      <th></th>\n",
       "      <th>date</th>\n",
       "      <th>precipitation</th>\n",
       "    </tr>\n",
       "  </thead>\n",
       "  <tbody>\n",
       "    <tr>\n",
       "      <th>0</th>\n",
       "      <td>2016-08-24</td>\n",
       "      <td>0.08</td>\n",
       "    </tr>\n",
       "    <tr>\n",
       "      <th>1</th>\n",
       "      <td>2016-08-25</td>\n",
       "      <td>0.08</td>\n",
       "    </tr>\n",
       "    <tr>\n",
       "      <th>2</th>\n",
       "      <td>2016-08-26</td>\n",
       "      <td>0.00</td>\n",
       "    </tr>\n",
       "    <tr>\n",
       "      <th>3</th>\n",
       "      <td>2016-08-27</td>\n",
       "      <td>0.00</td>\n",
       "    </tr>\n",
       "    <tr>\n",
       "      <th>4</th>\n",
       "      <td>2016-08-28</td>\n",
       "      <td>0.01</td>\n",
       "    </tr>\n",
       "  </tbody>\n",
       "</table>\n",
       "</div>"
      ],
      "text/plain": [
       "         date  precipitation\n",
       "0  2016-08-24           0.08\n",
       "1  2016-08-25           0.08\n",
       "2  2016-08-26           0.00\n",
       "3  2016-08-27           0.00\n",
       "4  2016-08-28           0.01"
      ]
     },
     "execution_count": 15,
     "metadata": {},
     "output_type": "execute_result"
    }
   ],
   "source": [
    "# Save the query results as a Pandas DataFrame and set the index to the date column\n",
    "results_df = pd.DataFrame(results, columns = ['date', 'precipitation'])\n",
    "results_df.head()"
   ]
  },
  {
   "cell_type": "code",
   "execution_count": 16,
   "metadata": {},
   "outputs": [
    {
     "data": {
      "text/plain": [
       "Text(0, 0.5, 'Inches')"
      ]
     },
     "execution_count": 16,
     "metadata": {},
     "output_type": "execute_result"
    },
    {
     "data": {
      "image/png": "[encoded data removed]",
      "text/plain": [
       "<Figure size 432x288 with 1 Axes>"
      ]
     },
     "metadata": {},
     "output_type": "display_data"
    }
   ],
   "source": [
    "# Sort the dataframe by date\n",
    "# results_df = session.query(Measurement.date).order_by(Measurement.date.desc()).all()\n",
    "# Use Pandas Plotting with Matplotlib to plot the data\n",
    "results_df = results_df.sort_values('date')\n",
    "results_df.plot(x=\"date\", y=\"precipitation\", rot=90)\n",
    "plt.xlabel('Date')\n",
    "plt.ylabel('Inches')"
   ]
  },
  {
   "cell_type": "code",
   "execution_count": 17,
   "metadata": {},
   "outputs": [
    {
     "data": {
      "text/html": [
       "<div>\n",
       "<style scoped>\n",
       "    .dataframe tbody tr th:only-of-type {\n",
       "        vertical-align: middle;\n",
       "    }\n",
       "\n",
       "    .dataframe tbody tr th {\n",
       "        vertical-align: top;\n",
       "    }\n",
       "\n",
       "    .dataframe thead th {\n",
       "        text-align: right;\n",
       "    }\n",
       "</style>\n",
       "<table border=\"1\" class=\"dataframe\">\n",
       "  <thead>\n",
       "    <tr style=\"text-align: right;\">\n",
       "      <th></th>\n",
       "      <th>precipitation</th>\n",
       "    </tr>\n",
       "  </thead>\n",
       "  <tbody>\n",
       "    <tr>\n",
       "      <th>count</th>\n",
       "      <td>2015.000000</td>\n",
       "    </tr>\n",
       "    <tr>\n",
       "      <th>mean</th>\n",
       "      <td>0.176462</td>\n",
       "    </tr>\n",
       "    <tr>\n",
       "      <th>std</th>\n",
       "      <td>0.460288</td>\n",
       "    </tr>\n",
       "    <tr>\n",
       "      <th>min</th>\n",
       "      <td>0.000000</td>\n",
       "    </tr>\n",
       "    <tr>\n",
       "      <th>25%</th>\n",
       "      <td>0.000000</td>\n",
       "    </tr>\n",
       "    <tr>\n",
       "      <th>50%</th>\n",
       "      <td>0.020000</td>\n",
       "    </tr>\n",
       "    <tr>\n",
       "      <th>75%</th>\n",
       "      <td>0.130000</td>\n",
       "    </tr>\n",
       "    <tr>\n",
       "      <th>max</th>\n",
       "      <td>6.700000</td>\n",
       "    </tr>\n",
       "  </tbody>\n",
       "</table>\n",
       "</div>"
      ],
      "text/plain": [
       "       precipitation\n",
       "count    2015.000000\n",
       "mean        0.176462\n",
       "std         0.460288\n",
       "min         0.000000\n",
       "25%         0.000000\n",
       "50%         0.020000\n",
       "75%         0.130000\n",
       "max         6.700000"
      ]
     },
     "execution_count": 17,
     "metadata": {},
     "output_type": "execute_result"
    }
   ],
   "source": [
    "# Use Pandas to calcualte the summary statistics for the precipitation data\n",
    "results_df.describe()"
   ]
  },
  {
   "cell_type": "markdown",
   "metadata": {},
   "source": [
    "# Exploratory Station Analysis"
   ]
  },
  {
   "cell_type": "code",
   "execution_count": 18,
   "metadata": {},
   "outputs": [
    {
     "data": {
      "text/plain": [
       "9"
      ]
     },
     "execution_count": 18,
     "metadata": {},
     "output_type": "execute_result"
    }
   ],
   "source": [
    "# Design a query to calculate the total number stations in the dataset\n",
    "session.query(Station).count()"
   ]
  },
  {
   "cell_type": "code",
   "execution_count": 19,
   "metadata": {},
   "outputs": [
    {
     "data": {
      "text/plain": [
       "[('USC00519281', 2772),\n",
       " ('USC00519397', 2724),\n",
       " ('USC00513117', 2709),\n",
       " ('USC00519523', 2669),\n",
       " ('USC00516128', 2612),\n",
       " ('USC00514830', 2202),\n",
       " ('USC00511918', 1979),\n",
       " ('USC00517948', 1372),\n",
       " ('USC00518838', 511)]"
      ]
     },
     "execution_count": 19,
     "metadata": {},
     "output_type": "execute_result"
    }
   ],
   "source": [
    "# Design a query to find the most active stations (i.e. what stations have the most rows?)\n",
    "# List the stations and the counts in descending order.\n",
    "station_activity = session.query(Measurement.station, func.count(Measurement.station)).group_by(Measurement.station).\\\n",
    "    order_by(func.count(Measurement.station).desc()).all()\n",
    "station_activity"
   ]
  },
  {
   "cell_type": "code",
   "execution_count": 20,
   "metadata": {},
   "outputs": [
    {
     "data": {
      "text/plain": [
       "[(54.0, 71.66378066378067, 85.0)]"
      ]
     },
     "execution_count": 20,
     "metadata": {},
     "output_type": "execute_result"
    }
   ],
   "source": [
    "# Using the most active station id from the previous query, calculate the lowest, highest, and average temperature.\n",
    "top_station = station_activity[0][0]\n",
    "session.query(func.min(Measurement.tobs), func.avg(Measurement.tobs), func.max(Measurement.tobs)).\\\n",
    "    filter(Measurement.station == top_station).all()"
   ]
  },
  {
   "cell_type": "code",
   "execution_count": 21,
   "metadata": {},
   "outputs": [
    {
     "data": {
      "text/plain": [
       "datetime.datetime(2016, 8, 23, 0, 0)"
      ]
     },
     "execution_count": 21,
     "metadata": {},
     "output_type": "execute_result"
    }
   ],
   "source": [
    "last_twelve_months = dt.datetime.strptime(lastdate, '%Y-%m-%d') - dt.timedelta(days=365)\n",
    "last_twelve_months"
   ]
  },
  {
   "cell_type": "code",
   "execution_count": 22,
   "metadata": {},
   "outputs": [
    {
     "data": {
      "text/plain": [
       "[('USC00519281', 77.0),\n",
       " ('USC00519281', 80.0),\n",
       " ('USC00519281', 80.0),\n",
       " ('USC00519281', 75.0),\n",
       " ('USC00519281', 73.0),\n",
       " ('USC00519281', 78.0),\n",
       " ('USC00519281', 77.0),\n",
       " ('USC00519281', 78.0),\n",
       " ('USC00519281', 80.0),\n",
       " ('USC00519281', 80.0),\n",
       " ('USC00519281', 78.0),\n",
       " ('USC00519281', 78.0),\n",
       " ('USC00519281', 78.0),\n",
       " ('USC00519281', 73.0),\n",
       " ('USC00519281', 74.0),\n",
       " ('USC00519281', 80.0),\n",
       " ('USC00519281', 79.0),\n",
       " ('USC00519281', 77.0),\n",
       " ('USC00519281', 80.0),\n",
       " ('USC00519281', 76.0),\n",
       " ('USC00519281', 79.0),\n",
       " ('USC00519281', 75.0),\n",
       " ('USC00519281', 79.0),\n",
       " ('USC00519281', 78.0),\n",
       " ('USC00519281', 79.0),\n",
       " ('USC00519281', 78.0),\n",
       " ('USC00519281', 78.0),\n",
       " ('USC00519281', 76.0),\n",
       " ('USC00519281', 74.0),\n",
       " ('USC00519281', 77.0),\n",
       " ('USC00519281', 78.0),\n",
       " ('USC00519281', 79.0),\n",
       " ('USC00519281', 79.0),\n",
       " ('USC00519281', 77.0),\n",
       " ('USC00519281', 80.0),\n",
       " ('USC00519281', 78.0),\n",
       " ('USC00519281', 78.0),\n",
       " ('USC00519281', 78.0),\n",
       " ('USC00519281', 77.0),\n",
       " ('USC00519281', 79.0),\n",
       " ('USC00519281', 79.0),\n",
       " ('USC00519281', 79.0),\n",
       " ('USC00519281', 79.0),\n",
       " ('USC00519281', 75.0),\n",
       " ('USC00519281', 76.0),\n",
       " ('USC00519281', 73.0),\n",
       " ('USC00519281', 72.0),\n",
       " ('USC00519281', 71.0),\n",
       " ('USC00519281', 77.0),\n",
       " ('USC00519281', 79.0),\n",
       " ('USC00519281', 78.0),\n",
       " ('USC00519281', 79.0),\n",
       " ('USC00519281', 77.0),\n",
       " ('USC00519281', 79.0),\n",
       " ('USC00519281', 77.0),\n",
       " ('USC00519281', 78.0),\n",
       " ('USC00519281', 78.0),\n",
       " ('USC00519281', 78.0),\n",
       " ('USC00519281', 78.0),\n",
       " ('USC00519281', 77.0),\n",
       " ('USC00519281', 74.0),\n",
       " ('USC00519281', 75.0),\n",
       " ('USC00519281', 76.0),\n",
       " ('USC00519281', 73.0),\n",
       " ('USC00519281', 76.0),\n",
       " ('USC00519281', 74.0),\n",
       " ('USC00519281', 77.0),\n",
       " ('USC00519281', 76.0),\n",
       " ('USC00519281', 76.0),\n",
       " ('USC00519281', 74.0),\n",
       " ('USC00519281', 75.0),\n",
       " ('USC00519281', 75.0),\n",
       " ('USC00519281', 75.0),\n",
       " ('USC00519281', 75.0),\n",
       " ('USC00519281', 71.0),\n",
       " ('USC00519281', 63.0),\n",
       " ('USC00519281', 70.0),\n",
       " ('USC00519281', 68.0),\n",
       " ('USC00519281', 67.0),\n",
       " ('USC00519281', 77.0),\n",
       " ('USC00519281', 74.0),\n",
       " ('USC00519281', 77.0),\n",
       " ('USC00519281', 76.0),\n",
       " ('USC00519281', 76.0),\n",
       " ('USC00519281', 75.0),\n",
       " ('USC00519281', 76.0),\n",
       " ('USC00519281', 75.0),\n",
       " ('USC00519281', 73.0),\n",
       " ('USC00519281', 75.0),\n",
       " ('USC00519281', 73.0),\n",
       " ('USC00519281', 75.0),\n",
       " ('USC00519281', 74.0),\n",
       " ('USC00519281', 75.0),\n",
       " ('USC00519281', 74.0),\n",
       " ('USC00519281', 75.0),\n",
       " ('USC00519281', 73.0),\n",
       " ('USC00519281', 75.0),\n",
       " ('USC00519281', 73.0),\n",
       " ('USC00519281', 73.0),\n",
       " ('USC00519281', 74.0),\n",
       " ('USC00519281', 70.0),\n",
       " ('USC00519281', 72.0),\n",
       " ('USC00519281', 70.0),\n",
       " ('USC00519281', 67.0),\n",
       " ('USC00519281', 67.0),\n",
       " ('USC00519281', 69.0),\n",
       " ('USC00519281', 70.0),\n",
       " ('USC00519281', 68.0),\n",
       " ('USC00519281', 69.0),\n",
       " ('USC00519281', 69.0),\n",
       " ('USC00519281', 66.0),\n",
       " ('USC00519281', 65.0),\n",
       " ('USC00519281', 68.0),\n",
       " ('USC00519281', 62.0),\n",
       " ('USC00519281', 75.0),\n",
       " ('USC00519281', 70.0),\n",
       " ('USC00519281', 69.0),\n",
       " ('USC00519281', 76.0),\n",
       " ('USC00519281', 76.0),\n",
       " ('USC00519281', 74.0),\n",
       " ('USC00519281', 73.0),\n",
       " ('USC00519281', 71.0),\n",
       " ('USC00519281', 74.0),\n",
       " ('USC00519281', 74.0),\n",
       " ('USC00519281', 72.0),\n",
       " ('USC00519281', 71.0),\n",
       " ('USC00519281', 72.0),\n",
       " ('USC00519281', 74.0),\n",
       " ('USC00519281', 69.0),\n",
       " ('USC00519281', 67.0),\n",
       " ('USC00519281', 72.0),\n",
       " ('USC00519281', 70.0),\n",
       " ('USC00519281', 64.0),\n",
       " ('USC00519281', 63.0),\n",
       " ('USC00519281', 63.0),\n",
       " ('USC00519281', 62.0),\n",
       " ('USC00519281', 70.0),\n",
       " ('USC00519281', 70.0),\n",
       " ('USC00519281', 62.0),\n",
       " ('USC00519281', 62.0),\n",
       " ('USC00519281', 63.0),\n",
       " ('USC00519281', 65.0),\n",
       " ('USC00519281', 69.0),\n",
       " ('USC00519281', 77.0),\n",
       " ('USC00519281', 70.0),\n",
       " ('USC00519281', 74.0),\n",
       " ('USC00519281', 69.0),\n",
       " ('USC00519281', 72.0),\n",
       " ('USC00519281', 71.0),\n",
       " ('USC00519281', 69.0),\n",
       " ('USC00519281', 71.0),\n",
       " ('USC00519281', 71.0),\n",
       " ('USC00519281', 72.0),\n",
       " ('USC00519281', 72.0),\n",
       " ('USC00519281', 69.0),\n",
       " ('USC00519281', 70.0),\n",
       " ('USC00519281', 66.0),\n",
       " ('USC00519281', 65.0),\n",
       " ('USC00519281', 69.0),\n",
       " ('USC00519281', 68.0),\n",
       " ('USC00519281', 68.0),\n",
       " ('USC00519281', 68.0),\n",
       " ('USC00519281', 59.0),\n",
       " ('USC00519281', 60.0),\n",
       " ('USC00519281', 70.0),\n",
       " ('USC00519281', 73.0),\n",
       " ('USC00519281', 75.0),\n",
       " ('USC00519281', 64.0),\n",
       " ('USC00519281', 59.0),\n",
       " ('USC00519281', 59.0),\n",
       " ('USC00519281', 62.0),\n",
       " ('USC00519281', 68.0),\n",
       " ('USC00519281', 70.0),\n",
       " ('USC00519281', 73.0),\n",
       " ('USC00519281', 79.0),\n",
       " ('USC00519281', 75.0),\n",
       " ('USC00519281', 65.0),\n",
       " ('USC00519281', 70.0),\n",
       " ('USC00519281', 74.0),\n",
       " ('USC00519281', 70.0),\n",
       " ('USC00519281', 70.0),\n",
       " ('USC00519281', 71.0),\n",
       " ('USC00519281', 71.0),\n",
       " ('USC00519281', 71.0),\n",
       " ('USC00519281', 69.0),\n",
       " ('USC00519281', 61.0),\n",
       " ('USC00519281', 67.0),\n",
       " ('USC00519281', 65.0),\n",
       " ('USC00519281', 72.0),\n",
       " ('USC00519281', 71.0),\n",
       " ('USC00519281', 73.0),\n",
       " ('USC00519281', 72.0),\n",
       " ('USC00519281', 77.0),\n",
       " ('USC00519281', 73.0),\n",
       " ('USC00519281', 67.0),\n",
       " ('USC00519281', 62.0),\n",
       " ('USC00519281', 64.0),\n",
       " ('USC00519281', 67.0),\n",
       " ('USC00519281', 66.0),\n",
       " ('USC00519281', 81.0),\n",
       " ('USC00519281', 69.0),\n",
       " ('USC00519281', 66.0),\n",
       " ('USC00519281', 67.0),\n",
       " ('USC00519281', 69.0),\n",
       " ('USC00519281', 66.0),\n",
       " ('USC00519281', 68.0),\n",
       " ('USC00519281', 65.0),\n",
       " ('USC00519281', 74.0),\n",
       " ('USC00519281', 69.0),\n",
       " ('USC00519281', 72.0),\n",
       " ('USC00519281', 73.0),\n",
       " ('USC00519281', 72.0),\n",
       " ('USC00519281', 71.0),\n",
       " ('USC00519281', 76.0),\n",
       " ('USC00519281', 77.0),\n",
       " ('USC00519281', 76.0),\n",
       " ('USC00519281', 74.0),\n",
       " ('USC00519281', 68.0),\n",
       " ('USC00519281', 73.0),\n",
       " ('USC00519281', 71.0),\n",
       " ('USC00519281', 74.0),\n",
       " ('USC00519281', 75.0),\n",
       " ('USC00519281', 70.0),\n",
       " ('USC00519281', 67.0),\n",
       " ('USC00519281', 71.0),\n",
       " ('USC00519281', 67.0),\n",
       " ('USC00519281', 74.0),\n",
       " ('USC00519281', 77.0),\n",
       " ('USC00519281', 78.0),\n",
       " ('USC00519281', 67.0),\n",
       " ('USC00519281', 70.0),\n",
       " ('USC00519281', 69.0),\n",
       " ('USC00519281', 69.0),\n",
       " ('USC00519281', 74.0),\n",
       " ('USC00519281', 78.0),\n",
       " ('USC00519281', 71.0),\n",
       " ('USC00519281', 67.0),\n",
       " ('USC00519281', 68.0),\n",
       " ('USC00519281', 67.0),\n",
       " ('USC00519281', 76.0),\n",
       " ('USC00519281', 69.0),\n",
       " ('USC00519281', 72.0),\n",
       " ('USC00519281', 76.0),\n",
       " ('USC00519281', 68.0),\n",
       " ('USC00519281', 72.0),\n",
       " ('USC00519281', 74.0),\n",
       " ('USC00519281', 70.0),\n",
       " ('USC00519281', 67.0),\n",
       " ('USC00519281', 72.0),\n",
       " ('USC00519281', 60.0),\n",
       " ('USC00519281', 65.0),\n",
       " ('USC00519281', 75.0),\n",
       " ('USC00519281', 70.0),\n",
       " ('USC00519281', 75.0),\n",
       " ('USC00519281', 70.0),\n",
       " ('USC00519281', 79.0),\n",
       " ('USC00519281', 75.0),\n",
       " ('USC00519281', 70.0),\n",
       " ('USC00519281', 67.0),\n",
       " ('USC00519281', 74.0),\n",
       " ('USC00519281', 70.0),\n",
       " ('USC00519281', 75.0),\n",
       " ('USC00519281', 76.0),\n",
       " ('USC00519281', 77.0),\n",
       " ('USC00519281', 74.0),\n",
       " ('USC00519281', 74.0),\n",
       " ('USC00519281', 74.0),\n",
       " ('USC00519281', 69.0),\n",
       " ('USC00519281', 68.0),\n",
       " ('USC00519281', 76.0),\n",
       " ('USC00519281', 74.0),\n",
       " ('USC00519281', 71.0),\n",
       " ('USC00519281', 71.0),\n",
       " ('USC00519281', 74.0),\n",
       " ('USC00519281', 74.0),\n",
       " ('USC00519281', 74.0),\n",
       " ('USC00519281', 74.0),\n",
       " ('USC00519281', 80.0),\n",
       " ('USC00519281', 74.0),\n",
       " ('USC00519281', 72.0),\n",
       " ('USC00519281', 75.0),\n",
       " ('USC00519281', 80.0),\n",
       " ('USC00519281', 76.0),\n",
       " ('USC00519281', 76.0),\n",
       " ('USC00519281', 77.0),\n",
       " ('USC00519281', 75.0),\n",
       " ('USC00519281', 75.0),\n",
       " ('USC00519281', 75.0),\n",
       " ('USC00519281', 75.0),\n",
       " ('USC00519281', 72.0),\n",
       " ('USC00519281', 74.0),\n",
       " ('USC00519281', 74.0),\n",
       " ('USC00519281', 74.0),\n",
       " ('USC00519281', 76.0),\n",
       " ('USC00519281', 74.0),\n",
       " ('USC00519281', 75.0),\n",
       " ('USC00519281', 73.0),\n",
       " ('USC00519281', 79.0),\n",
       " ('USC00519281', 75.0),\n",
       " ('USC00519281', 72.0),\n",
       " ('USC00519281', 72.0),\n",
       " ('USC00519281', 74.0),\n",
       " ('USC00519281', 72.0),\n",
       " ('USC00519281', 72.0),\n",
       " ('USC00519281', 77.0),\n",
       " ('USC00519281', 71.0),\n",
       " ('USC00519281', 73.0),\n",
       " ('USC00519281', 76.0),\n",
       " ('USC00519281', 77.0),\n",
       " ('USC00519281', 76.0),\n",
       " ('USC00519281', 76.0),\n",
       " ('USC00519281', 79.0),\n",
       " ('USC00519281', 81.0),\n",
       " ('USC00519281', 76.0),\n",
       " ('USC00519281', 78.0),\n",
       " ('USC00519281', 77.0),\n",
       " ('USC00519281', 74.0),\n",
       " ('USC00519281', 75.0),\n",
       " ('USC00519281', 78.0),\n",
       " ('USC00519281', 78.0),\n",
       " ('USC00519281', 69.0),\n",
       " ('USC00519281', 72.0),\n",
       " ('USC00519281', 74.0),\n",
       " ('USC00519281', 74.0),\n",
       " ('USC00519281', 76.0),\n",
       " ('USC00519281', 80.0),\n",
       " ('USC00519281', 80.0),\n",
       " ('USC00519281', 76.0),\n",
       " ('USC00519281', 76.0),\n",
       " ('USC00519281', 76.0),\n",
       " ('USC00519281', 77.0),\n",
       " ('USC00519281', 77.0),\n",
       " ('USC00519281', 77.0),\n",
       " ('USC00519281', 82.0),\n",
       " ('USC00519281', 75.0),\n",
       " ('USC00519281', 77.0),\n",
       " ('USC00519281', 75.0),\n",
       " ('USC00519281', 76.0),\n",
       " ('USC00519281', 81.0),\n",
       " ('USC00519281', 82.0),\n",
       " ('USC00519281', 81.0),\n",
       " ('USC00519281', 76.0),\n",
       " ('USC00519281', 77.0),\n",
       " ('USC00519281', 82.0),\n",
       " ('USC00519281', 83.0),\n",
       " ('USC00519281', 77.0),\n",
       " ('USC00519281', 77.0),\n",
       " ('USC00519281', 77.0),\n",
       " ('USC00519281', 76.0),\n",
       " ('USC00519281', 76.0),\n",
       " ('USC00519281', 79.0)]"
      ]
     },
     "execution_count": 22,
     "metadata": {},
     "output_type": "execute_result"
    }
   ],
   "source": [
    "# Using the most active station id\n",
    "# Query the last 12 months of temperature observation data for this station and plot the results as a histogram\n",
    "top_results = session.query(Measurement.station, Measurement.tobs).filter(Measurement.station == top_station).\\\n",
    "    filter(Measurement.date >= last_twelve_months).all()\n",
    "top_results"
   ]
  },
  {
   "cell_type": "code",
   "execution_count": 23,
   "metadata": {},
   "outputs": [
    {
     "data": {
      "text/plain": [
       "<AxesSubplot:ylabel='Frequency'>"
      ]
     },
     "execution_count": 23,
     "metadata": {},
     "output_type": "execute_result"
    },
    {
     "data": {
      "image/png": "[encoded data removed]",
      "text/plain": [
       "<Figure size 432x288 with 1 Axes>"
      ]
     },
     "metadata": {},
     "output_type": "display_data"
    }
   ],
   "source": [
    "top_results_df = pd.DataFrame(top_results)\n",
    "top_results_df.plot.hist(bins=12)"
   ]
  },
  {
   "cell_type": "markdown",
   "metadata": {},
   "source": [
    "# Close session"
   ]
  },
  {
   "cell_type": "code",
   "execution_count": 24,
   "metadata": {},
   "outputs": [],
   "source": [
    "# Close Session\n",
    "session.close()"
   ]
  },
  {
   "cell_type": "code",
   "execution_count": null,
   "metadata": {},
   "outputs": [],
   "source": []
  }
 ],
 "metadata": {
  "anaconda-cloud": {},
  "kernel_info": {
   "name": "python3"
  },
  "kernelspec": {
   "display_name": "Python 3",
   "language": "python",
   "name": "python3"
  },
  "language_info": {
   "codemirror_mode": {
    "name": "ipython",
    "version": 3
   },
   "file_extension": ".py",
   "mimetype": "text/x-python",
   "name": "python",
   "nbconvert_exporter": "python",
   "pygments_lexer": "ipython3",
   "version": "3.7.10"
  },
  "nteract": {
   "version": "0.12.3"
  },
  "varInspector": {
   "cols": {
    "lenName": 16,
    "lenType": 16,
    "lenVar": 40
   },
   "kernels_config": {
    "python": {
     "delete_cmd_postfix": "",
     "delete_cmd_prefix": "del ",
     "library": "var_list.py",
     "varRefreshCmd": "print(var_dic_list())"
    },
    "r": {
     "delete_cmd_postfix": ") ",
     "delete_cmd_prefix": "rm(",
     "library": "var_list.r",
     "varRefreshCmd": "cat(var_dic_list()) "
    }
   },
   "types_to_exclude": [
    "module",
    "function",
    "builtin_function_or_method",
    "instance",
    "_Feature"
   ],
   "window_display": false
  }
 },
 "nbformat": 4,
 "nbformat_minor": 2
}
